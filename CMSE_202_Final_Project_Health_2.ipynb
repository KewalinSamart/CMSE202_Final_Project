{
 "cells": [
  {
   "cell_type": "markdown",
   "metadata": {},
   "source": [
    "#### CMSE 202 Final Project\n",
    "### &#9989; Chris Brown, Kewalin Samart, Jay Scott, Raymond Smith\n",
    "### &#9989; Section_003\n",
    "#### &#9989; 4/13/21"
   ]
  },
  {
   "cell_type": "markdown",
   "metadata": {},
   "source": [
    "# ___Modeling Oxygen Repopulation in Blood Cells___"
   ]
  },
  {
   "cell_type": "markdown",
   "metadata": {},
   "source": [
    "## Background and Motivation"
   ]
  },
  {
   "cell_type": "markdown",
   "metadata": {},
   "source": [
    "__**__"
   ]
  },
  {
   "cell_type": "markdown",
   "metadata": {},
   "source": [
    "## Methodology"
   ]
  },
  {
   "cell_type": "code",
   "execution_count": 2,
   "metadata": {},
   "outputs": [],
   "source": [
    "import numpy as np\n",
    "import pandas as pd\n",
    "import math\n",
    "import random\n",
    "from IPython.display import display, clear_output\n",
    "import time\n",
    "import matplotlib.pyplot as plt\n",
    "%matplotlib inline"
   ]
  },
  {
   "cell_type": "markdown",
   "metadata": {},
   "source": [
    "### Pseudocode"
   ]
  },
  {
   "cell_type": "markdown",
   "metadata": {},
   "source": [
    "__*Focusing on modeling blood moving through veins/arteries. Possibly model a smaller process, oxygen from lungs to blood*__\n",
    "\n",
    "1) Initialize a board- Put oxygen, blood cells, and organs on the board. Veins/arteries represented by straight line boundaries on board. Put veins and arteries on the board with junctions. Organs should occupy multiple grid points and be initialized containing CO2\n",
    "\n",
    "2) Use classes to represent oxygen, blood cell/hemoglobin, and organs.\n",
    "\n",
    "    Attributes/Methods\n",
    "    \n",
    "    Oxygen; Able to be transferred from blood to organs. (For smaller model)Oxygen is able to diffuse from lungs to blood stream. Oxygen randomly appears every few time steps to represent breathing. Most oxygen must be carried by blood cells/hemoglobin. A percentage of oxygen dissolves/diffuses into plasma which contains blood cells. 3% of oxygen will be randomly chosen to move randomly through plasma alongside blood cells.\n",
    "    \n",
    "    Blood Cells/Hemoglobin; Randomly assign blood cells at start to have oxygen or CO2. Blood cells have two different states, full of oxygen and full of CO2. Moves radomly through veins and arteries, at junctions we can set different probabilities for which path a blood cell might take. Blood cells check every grid point around them (nearest neighbor function) for vein/artery paths. Blood cells carrying CO2 only travel through veins and cells carrying oxygen only travel through arteries.\n",
    "    \n",
    "    Organs; Organs contain CO2 when initialized with the board. Absorb oxygen and create CO2. When oxygen reaches an organ it is turned into CO2 and leaves the organ. When CO2 reaches the lungs we somehow show it being expelled from the body (it disappears from the model)\n",
    "\n"
   ]
  },
  {
   "cell_type": "markdown",
   "metadata": {},
   "source": [
    "### Actual Code"
   ]
  },
  {
   "cell_type": "code",
   "execution_count": 44,
   "metadata": {},
   "outputs": [
    {
     "data": {
      "text/plain": [
       "<matplotlib.image.AxesImage at 0x1c361f68550>"
      ]
     },
     "execution_count": 44,
     "metadata": {},
     "output_type": "execute_result"
    },
    {
     "data": {
      "image/png": "[encoded data removed]",
      "text/plain": [
       "<Figure size 1440x720 with 1 Axes>"
      ]
     },
     "metadata": {
      "needs_background": "light"
     },
     "output_type": "display_data"
    }
   ],
   "source": [
    "board = np.zeros(shape = (200,200)) # Initializing a 100 by 100 size board of color purple\n",
    "\n",
    "board[75:125,75:125] = 1 # Representing a lung as a 20 by 20 square on the board\n",
    "\n",
    "# Organs - teal\n",
    "board[160:190, 160:190] = 2 # Representing an organ as a 10 by 10 square on the board\n",
    "board[10:40, 10:40] = 2 # Representing an organ as a 10 by 10 square on the board\n",
    "board[10:40, 160:190] = 2 # Representing an organ as a 10 by 10 square on the board\n",
    "board[160:190, 10:40] = 2 # Representing an organ as a 10 by 10 square on the board\n",
    "\n",
    "# Arteries - green\n",
    "board[40:160,20:30] = 3 \n",
    "board[40:160, 170:180] = 3 \n",
    "board[95:105,28:75] = 3 \n",
    "board[95:105,125:170] = 3\n",
    "board[115:125,28:75] = 3 \n",
    "board[75:85,28:75] = 3 \n",
    "board[75:85,125:170] = 3 \n",
    "board[115:125,125:170] = 3 \n",
    "\n",
    "# Veins - yellow\n",
    "board[35:40,40:75] = 4 # left top sideways peg\n",
    "board[170:180,40:160] = 4 \n",
    "board[27:75,85:90] = 4 # middle top upright peg\n",
    "board[27:32,40:90] = 4 # middle top sideways peg\n",
    "board[125:178,95:105] = 4 \n",
    "board[20:75,95:100] = 4 # right top upright peg\n",
    "board[17:22,40:100] = 4 # right top sideways peg\n",
    "board[35:75,75:80] = 4 # left top upright peg\n",
    "board[125:170,75:85] = 4 \n",
    "board[125:175,115:125] = 4 \n",
    "\n",
    "# plotting the board\n",
    "plt.figure(figsize=(20,10))\n",
    "plt.imshow(board) "
   ]
  },
  {
   "cell_type": "code",
   "execution_count": null,
   "metadata": {},
   "outputs": [],
   "source": []
  }
 ],
 "metadata": {
  "kernelspec": {
   "display_name": "Python 3",
   "language": "python",
   "name": "python3"
  },
  "language_info": {
   "codemirror_mode": {
    "name": "ipython",
    "version": 3
   },
   "file_extension": ".py",
   "mimetype": "text/x-python",
   "name": "python",
   "nbconvert_exporter": "python",
   "pygments_lexer": "ipython3",
   "version": "3.8.3"
  }
 },
 "nbformat": 4,
 "nbformat_minor": 4
}
