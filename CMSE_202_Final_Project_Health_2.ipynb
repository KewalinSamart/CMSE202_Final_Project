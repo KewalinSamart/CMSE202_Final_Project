{
 "cells": [
  {
   "cell_type": "markdown",
   "metadata": {},
   "source": [
    "#### CMSE 202 Final Project\n",
    "### &#9989; Chris Brown, Kewalin Samart, Jay Scott, Raymond Smith\n",
    "### &#9989; Section_003\n",
    "#### &#9989; 4/13/21"
   ]
  },
  {
   "cell_type": "markdown",
   "metadata": {},
   "source": [
    "# ___Modeling Oxygen Repopulation in Blood Cells___"
   ]
  },
  {
   "cell_type": "markdown",
   "metadata": {},
   "source": [
    "## Background and Motivation"
   ]
  },
  {
   "cell_type": "markdown",
   "metadata": {},
   "source": [
    "Adenosine Triphosphate (ATP) is one of the main compounds in our body that the cells use to store and release energy. Oxygen is essential for ATP production in the Krebs cycle. Without oxygen, our body cannot make any energy, and insufficient oxygen intake reduces metabolism efficiency. In the respiratory process, we take in oxygen and take out unnecessary gases e.g. carbon dioxide, by breathing. About 97% of the oxygen is transported throughout the body by hemoglobins in the red blood cells, and the rest is dissolved in plasma. One hemoglobin has a minimum capacity of one oxygen molecule and a maximum capacity of four oxygen molecules. Hemoglobins carry oxygen molecules and drop them off at the target cells in organ tissues. As a waste of the Krebs cycle, carbon dioxide is picked up by the hemoglobin and transported to the lung in order to be released through the gas exchange process. To obtain a better understanding of this important biological mechanism. We, therefore, develop an agent-based model to demonstrate how blood cells repopulate oxygen in the body. The model focuses on showing the big picture of how red blood cells as carriers of oxygen and carbon dioxide move around the body through veins and arteries."
   ]
  },
  {
   "cell_type": "markdown",
   "metadata": {},
   "source": [
    "## Methodology"
   ]
  },
  {
   "cell_type": "markdown",
   "metadata": {},
   "source": [
    "### Pseudocode"
   ]
  },
  {
   "cell_type": "markdown",
   "metadata": {},
   "source": [
    "__*Focusing on modeling blood moving through veins/arteries.*__\n",
    "\n",
    "1) Initialize a board- Put oxygen, blood cells, and organs on the board. Veins/arteries represented by straight line boundaries on board. Put veins and arteries on the board with junctions. Organs should occupy multiple grid points and be initialized containing CO2\n",
    "\n",
    "2) Use classes to represent oxygen, blood cell/hemoglobin, and organs.\n",
    "\n",
    "    Attributes/Methods\n",
    "    \n",
    "    Oxygen; Able to be transferred from blood to organs. (For smaller model)Oxygen is able to diffuse from lungs to blood stream. Oxygen randomly appears every few time steps to represent breathing. Most oxygen must be carried by blood cells/hemoglobin. A percentage of oxygen dissolves/diffuses into plasma which contains blood cells. 3% of oxygen will be randomly chosen to move randomly through plasma alongside blood cells.\n",
    "    \n",
    "    Blood Cells/Hemoglobin; Randomly assign blood cells at start to have oxygen or CO2. Blood cells have two different states, full of oxygen and full of CO2. Moves radomly through veins and arteries, at junctions we can set different probabilities for which path a blood cell might take. Blood cells check every grid point around them (nearest neighbor function) for vein/artery paths. Blood cells carrying CO2 only travel through veins and cells carrying oxygen only travel through arteries.\n",
    "    \n",
    "    Organs; Organs contain CO2 when initialized with the board. Absorb oxygen and create CO2. When oxygen reaches an organ it is turned into CO2 and leaves the organ. When CO2 reaches the lungs we somehow show it being expelled from the body (it disappears from the model)\n",
    "\n"
   ]
  },
  {
   "cell_type": "markdown",
   "metadata": {},
   "source": [
    "### Code"
   ]
  },
  {
   "cell_type": "code",
   "execution_count": 1,
   "metadata": {},
   "outputs": [],
   "source": [
    "#All of the imports\n",
    "import math\n",
    "import numpy as np\n",
    "import pandas as pd\n",
    "import seaborn as sns\n",
    "from IPython.display import display, clear_output\n",
    "import time\n",
    "import random\n",
    "import matplotlib.pyplot as plt\n",
    "%matplotlib inline"
   ]
  },
  {
   "cell_type": "code",
   "execution_count": 2,
   "metadata": {},
   "outputs": [],
   "source": [
    "from Blood_Cell_Class import *\n",
    "from General_O2_CO2_Class import *"
   ]
  },
  {
   "cell_type": "code",
   "execution_count": 3,
   "metadata": {},
   "outputs": [],
   "source": [
    "from matplotlib.offsetbox import OffsetImage, AnnotationBbox\n",
    "from matplotlib.cbook import get_sample_data\n",
    "\n",
    "def imscatter(x, y, image, ax=None, zoom=1):\n",
    "    '''\n",
    "    Placing images on the board\n",
    "    '''\n",
    "    if ax is None:\n",
    "        ax = plt.gca()\n",
    "    try:\n",
    "        image = plt.imread(image)\n",
    "    except TypeError:\n",
    "        pass\n",
    "    im = OffsetImage(image, zoom=zoom)\n",
    "    x, y = np.atleast_1d(x, y)\n",
    "    artists = []\n",
    "    for x0, y0 in zip(x, y):\n",
    "        ab = AnnotationBbox(im, (x0, y0), xycoords='data', \\\n",
    "                            frameon=False)\n",
    "        artists.append(ax.add_artist(ab))\n",
    "    ax.update_datalim(np.column_stack([x, y]))\n",
    "    ax.autoscale()\n",
    "    return artists"
   ]
  },
  {
   "cell_type": "code",
   "execution_count": 4,
   "metadata": {},
   "outputs": [],
   "source": [
    "board = np.zeros(shape = (250,200)) # Initializing a 250 by 200 size board of color purple\n",
    "\n",
    "# heart\n",
    "board[70:100,75:100] = 1 # left part of the heart (low oxygen; blue)\n",
    "board[70:100,100:130] = 2 # right part of the heart (high oxygen; teal; anatomically bigger than the left part)\n",
    "\n",
    "# lung \n",
    "board[5:40,70:135] = 3\n",
    "\n",
    "# organ no.1 \n",
    "board[140:160,80:120] = 4\n",
    "\n",
    "# organ no.2\n",
    "board[170:190,80:120] = 5\n",
    "\n",
    "# organ no.3\n",
    "board[200:220,80:120] = 6\n",
    "\n",
    "# veins; blue\n",
    "board[40:70,80:90] = 1 # vein connecting lung and left part of the heart\n",
    "board[80:90,25:75] = 1 # top vein connecting lung with organs\n",
    "board[90:215,25:35] = 1 # side vein connecting lung with organs\n",
    "board[145:155,35:80] = 1 # side vein organ no.1\n",
    "board[175:185,35:80] = 1 # side vein organ no.2\n",
    "board[205:215,35:80] = 1 # side vein organ no.3\n",
    "\n",
    "# arteries; teal\n",
    "board[40:70,115:125] = 2 # artery connecting lung and right part of the heart\n",
    "board[80:90,130:180] = 2 # top artery connecting lung with organs\n",
    "board[90:215,170:180] = 2 # side artery connecting lung with organs\n",
    "board[145:155,120:170] = 2 # side artery organ no.1\n",
    "board[175:185,120:170] = 2 # side artery organ no.2\n",
    "board[205:215,120:170] = 2 # side artery organ no.3"
   ]
  },
  {
   "cell_type": "code",
   "execution_count": 5,
   "metadata": {},
   "outputs": [],
   "source": [
    "def simulation(cells):\n",
    "    '''\n",
    "    Object Movement\n",
    "    '''\n",
    "\n",
    "    fig, ax = plt.subplots(figsize=(10,5))\n",
    "    \n",
    "    for _ in range(10000):\n",
    "        \n",
    "        for b in cells:\n",
    "    \n",
    "            location = b.board_location()\n",
    "                \n",
    "            # movement conditions based on coordinates\n",
    "            if location[1] < 86 and location[0] > 150:\n",
    "                b.movement_down()\n",
    "                b.transfer()\n",
    "                b.draw()\n",
    "        \n",
    "            elif (30 <= location[0] < 86) and location[1] <= 86: \n",
    "                b.movement_right()\n",
    "                b.transfer()\n",
    "                b.draw()\n",
    "        \n",
    "            elif location[1] == 20 and location[0] == 86:\n",
    "                b.movement_right()\n",
    "                b.transfer()\n",
    "                b.draw()\n",
    "        \n",
    "            elif 20 <= location[1] <=30 and location[0] >= 86 and location[0] != 120:\n",
    "                b.movement_right()\n",
    "                b.transfer()\n",
    "                b.draw()\n",
    "        \n",
    "            elif location[1] <= 40 and location[0] == 120:\n",
    "                b.movement_down()\n",
    "                b.transfer()\n",
    "                b.draw()\n",
    "        \n",
    "            elif location[0] == 86 and location[1] <= 86:\n",
    "                b.movement_up()\n",
    "                b.transfer()\n",
    "                b.draw()\n",
    "   \n",
    "            elif location[0] == 30:\n",
    "                b.movement_up()\n",
    "                b.transfer()\n",
    "                b.draw()\n",
    "\n",
    "            elif location[0] < 176 and location[1] == 86:\n",
    "                b.movement_right()\n",
    "                b.transfer()\n",
    "                b.draw()\n",
    "                \n",
    "            elif location[0] == 176 and location[1] < 150: \n",
    "                b.movement_down()\n",
    "                b.transfer()\n",
    "                b.draw()\n",
    "            \n",
    "            elif location[0] == 176 and location[1] == 150: #Potentially enter organ 1\n",
    "                prob = random.random()\n",
    "                if prob > 0.33:\n",
    "                    b.movement_down()\n",
    "                    b.transfer()\n",
    "                    b.draw()\n",
    "                else:\n",
    "                    b.movement_left()\n",
    "                    b.transfer()\n",
    "                    b.draw()\n",
    "                \n",
    "            elif location[0] == 30 and location[1] == 150:\n",
    "                b.movement_up()\n",
    "                b.transfer()\n",
    "                b.draw()\n",
    "            \n",
    "            elif location[1] == 150:\n",
    "                b.movement_left()\n",
    "                b.transfer()\n",
    "                b.draw()  \n",
    "        \n",
    "            elif 40 < location[1] < 180: #Potentially enter organ 2 \n",
    "                b.movement_down()\n",
    "                b.transfer()\n",
    "                b.draw()\n",
    "        \n",
    "            elif location[0] == 176 and location[1] == 180:\n",
    "                prob = random.random()\n",
    "                if prob > 0.33:\n",
    "                    b.movement_down()\n",
    "                    b.transfer()\n",
    "                    b.draw()\n",
    "                else:\n",
    "                    b.movement_left()\n",
    "                    b.transfer()\n",
    "                    b.draw()\n",
    "                    \n",
    "            elif location[0] == 30 and location[1] == 180:\n",
    "                b.movement_up()\n",
    "                b.transfer()\n",
    "                b.draw()\n",
    "\n",
    "            elif location[1] == 180:\n",
    "                b.movement_left()\n",
    "                b.transfer()\n",
    "                b.draw()  \n",
    "    \n",
    "            elif 40 < location[1] < 210: #Potentially enter organ 3 \n",
    "                b.movement_down()\n",
    "                b.transfer()\n",
    "                b.draw()\n",
    "\n",
    "            elif location[0] == 30 and location[1] == 210:\n",
    "                b.movement_up()\n",
    "                b.transfer()\n",
    "                b.draw()\n",
    "\n",
    "            elif location[1] == 210:\n",
    "                b.movement_left()\n",
    "                b.transfer()\n",
    "                b.draw()  \n",
    "    \n",
    "    \n",
    "        # Animaiton part (dosn't change)\n",
    "        plt.imshow(board)\n",
    "        image_path = 'The_heart.jfif'\n",
    "        the_image = 'The_lungs.jpg'\n",
    "        imscatter(102, 90, image_path, zoom=0.165)\n",
    "        imscatter(102, 21, the_image, zoom=0.275)\n",
    "        clear_output(wait=True) # Clear output for dynamic display\n",
    "        display(fig)            # Reset display\n",
    "        fig.clear()             # Prevent overlapping and layered plots\n",
    "        time.sleep(0.0001)      # Sleep for a fraction of a second to allow animation to catch up\n",
    "        # Sleep for a fraction of a second to allow animation to catch up\n",
    "        "
   ]
  },
  {
   "cell_type": "code",
   "execution_count": null,
   "metadata": {
    "scrolled": false
   },
   "outputs": [
    {
     "data": {
      "image/png": "[encoded data removed]",
      "text/plain": [
       "<Figure size 720x360 with 1 Axes>"
      ]
     },
     "metadata": {},
     "output_type": "display_data"
    }
   ],
   "source": [
    "# Running the simulation of a red blood cell\n",
    "coords = [[100,26], [100,150], [100,180], [100,210]]\n",
    "coords2 = [[116,86], [86,86]]\n",
    "cells = []\n",
    "\n",
    "b_cells = []\n",
    "o_cells = []\n",
    "\n",
    "for c in coords: \n",
    "    b = blood_cell(c)\n",
    "    b_cells.append(b)\n",
    "    \n",
    "for c2 in coords2: \n",
    "    o = oxygen_carbon_dioxide(c2)\n",
    "    o_cells.append(o)\n",
    "    \n",
    "cells.extend(b_cells)\n",
    "cells.extend(o_cells)\n",
    "\n",
    "simulation(cells)"
   ]
  },
  {
   "cell_type": "markdown",
   "metadata": {},
   "source": [
    "## Discussion"
   ]
  },
  {
   "cell_type": "markdown",
   "metadata": {},
   "source": [
    "**Things to do next time:**\n",
    "- Show changes in blood pressure in the model by changing the number of units that each blood cell moves when traveling through certain areas on the board\n",
    "- Model the actual process of oxygen absorption by blood cells while they are in the lungs\n",
    "Create separate classes for oxygen and carbon dioxide \n",
    "\n",
    "**Problems:**\n",
    "- Issues getting particles to move around the board correctly and continuously \n",
    "- Issues using Github and file sharing\n"
   ]
  },
  {
   "cell_type": "markdown",
   "metadata": {},
   "source": [
    "## References"
   ]
  },
  {
   "cell_type": "markdown",
   "metadata": {},
   "source": [
    "- https://www.ch.ic.ac.uk/rzepa/mim/environmental/html/oxygen.htm\n",
    "- https://www.youtube.com/watch?v=zwbj866zkL8\n",
    "- https://openoregon.pressbooks.pub/mhccbiology101/chapter/citric-acid-cycle/\n",
    "- Image of heart: https://qph.fs.quoracdn.net/main-qimg-442bcce157dc039bb52328c0af5dd2b2-c\n",
    "- Image of lungs: https://www.drugabuse.gov/sites/default/files/2020-05/lungs_flickr_wesley_mccormick_6809216382.jpg"
   ]
  }
 ],
 "metadata": {
  "kernelspec": {
   "display_name": "Python 3",
   "language": "python",
   "name": "python3"
  },
  "language_info": {
   "codemirror_mode": {
    "name": "ipython",
    "version": 3
   },
   "file_extension": ".py",
   "mimetype": "text/x-python",
   "name": "python",
   "nbconvert_exporter": "python",
   "pygments_lexer": "ipython3",
   "version": "3.8.3"
  }
 },
 "nbformat": 4,
 "nbformat_minor": 4
}
