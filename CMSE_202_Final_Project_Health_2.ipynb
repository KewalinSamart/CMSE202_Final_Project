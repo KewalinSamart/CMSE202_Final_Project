{
 "cells": [
  {
   "cell_type": "markdown",
   "metadata": {},
   "source": [
    "#### CMSE 202 Final Project\n",
    "### &#9989; Chris Brown, Kewalin Samart, Jay Scott, Raymond Smith\n",
    "### &#9989; Section_003\n",
    "#### &#9989; 4/13/21"
   ]
  },
  {
   "cell_type": "markdown",
   "metadata": {},
   "source": [
    "# ___Modeling Oxygen Repopulation in Blood Cells___"
   ]
  },
  {
   "cell_type": "markdown",
   "metadata": {},
   "source": [
    "## Background and Motivation"
   ]
  },
  {
   "cell_type": "markdown",
   "metadata": {},
   "source": [
    "__**__"
   ]
  },
  {
   "cell_type": "markdown",
   "metadata": {},
   "source": [
    "## Methodology"
   ]
  },
  {
   "cell_type": "code",
   "execution_count": 2,
   "metadata": {},
   "outputs": [],
   "source": [
    "import numpy as np\n",
    "import pandas as pd\n",
    "import math\n",
    "import random\n",
    "from IPython.display import display, clear_output\n",
    "import time\n",
    "import matplotlib.pyplot as plt\n",
    "%matplotlib inline"
   ]
  },
  {
   "cell_type": "markdown",
   "metadata": {},
   "source": [
    "### Pseudocode"
   ]
  },
  {
   "cell_type": "markdown",
   "metadata": {},
   "source": [
    "__*Focusing on modeling blood moving through veins/arteries. Possibly model a smaller process, oxygen from lungs to blood*__\n",
    "\n",
    "1) Initialize a board- Put oxygen, blood cells, and organs on the board. Veins/arteries represented by straight line boundaries on board. Put veins and arteries on the board with junctions. Organs should occupy multiple grid points and be initialized containing CO2\n",
    "\n",
    "2) Use classes to represent oxygen, blood cell/hemoglobin, and organs.\n",
    "\n",
    "    Attributes/Methods\n",
    "    \n",
    "    Oxygen; Able to be transferred from blood to organs. (For smaller model)Oxygen is able to diffuse from lungs to blood stream. Oxygen randomly appears every few time steps to represent breathing. Most oxygen must be carried by blood cells/hemoglobin. A percentage of oxygen dissolves/diffuses into plasma which contains blood cells. 3% of oxygen will be randomly chosen to move randomly through plasma alongside blood cells.\n",
    "    \n",
    "    Blood Cells/Hemoglobin; Randomly assign blood cells at start to have oxygen or CO2. Blood cells have two different states, full of oxygen and full of CO2. Moves radomly through veins and arteries, at junctions we can set different probabilities for which path a blood cell might take. Blood cells check every grid point around them (nearest neighbor function) for vein/artery paths. Blood cells carrying CO2 only travel through veins and cells carrying oxygen only travel through arteries.\n",
    "    \n",
    "    Organs; Organs contain CO2 when initialized with the board. Absorb oxygen and create CO2. When oxygen reaches an organ it is turned into CO2 and leaves the organ. When CO2 reaches the lungs we somehow show it being expelled from the body (it disappears from the model)\n",
    "\n"
   ]
  },
  {
   "cell_type": "markdown",
   "metadata": {},
   "source": [
    "### Actual Code"
   ]
  },
  {
   "cell_type": "code",
   "execution_count": 40,
   "metadata": {},
   "outputs": [
    {
     "data": {
      "text/plain": [
       "<matplotlib.image.AxesImage at 0x7fd74819e1c0>"
      ]
     },
     "execution_count": 40,
     "metadata": {},
     "output_type": "execute_result"
    },
    {
     "data": {
      "image/png": "[encoded data removed]",
      "text/plain": [
       "<Figure size 1440x720 with 1 Axes>"
      ]
     },
     "metadata": {
      "needs_background": "light"
     },
     "output_type": "display_data"
    }
   ],
   "source": [
    "board = np.zeros(shape = (250,200)) # Initializing a 250 by 200 size board of color purple\n",
    "\n",
    "# heart\n",
    "board[70:100,75:100] = 1 # left part of the heart (low oxygen; blue)\n",
    "board[70:100,100:130] = 2 # right part of the heart (high oxygen; teal; anatomically bigger than the left part)\n",
    "\n",
    "# lung \n",
    "board[5:40,70:135] = 3\n",
    "\n",
    "# organ no.1 \n",
    "board[140:160,80:120] = 4\n",
    "\n",
    "# organ no.2\n",
    "board[170:190,80:120] = 5\n",
    "\n",
    "# organ no.3\n",
    "board[200:220,80:120] = 6\n",
    "\n",
    "# veins; blue\n",
    "board[40:70,80:90] = 1 # vein connecting lung and left part of the heart\n",
    "board[80:90,25:75] = 1 # top vein connecting lung with organs\n",
    "board[90:215,25:35] = 1 # side vein connecting lung with organs\n",
    "board[145:155,35:80] = 1 # side vein organ no.1\n",
    "board[175:185,35:80] = 1 # side vein organ no.2\n",
    "board[205:215,35:80] = 1 # side vein organ no.3\n",
    "\n",
    "# arteries; teal\n",
    "board[40:70,115:125] = 2 # artery connecting lung and right part of the heart\n",
    "board[80:90,130:180] = 2 # top artery connecting lung with organs\n",
    "board[90:215,170:180] = 2 # side artery connecting lung with organs\n",
    "board[145:155,120:170] = 2 # side artery organ no.1\n",
    "board[175:185,120:170] = 2 # side artery organ no.2\n",
    "board[205:215,120:170] = 2 # side artery organ no.3\n",
    "\n",
    "# plotting the board\n",
    "plt.figure(figsize=(20,10))\n",
    "plt.imshow(board) "
   ]
  },
  {
   "cell_type": "code",
   "execution_count": null,
   "metadata": {},
   "outputs": [],
   "source": []
  }
 ],
 "metadata": {
  "kernelspec": {
   "display_name": "Python 3",
   "language": "python",
   "name": "python3"
  },
  "language_info": {
   "codemirror_mode": {
    "name": "ipython",
    "version": 3
   },
   "file_extension": ".py",
   "mimetype": "text/x-python",
   "name": "python",
   "nbconvert_exporter": "python",
   "pygments_lexer": "ipython3",
   "version": "3.8.3"
  }
 },
 "nbformat": 4,
 "nbformat_minor": 4
}
