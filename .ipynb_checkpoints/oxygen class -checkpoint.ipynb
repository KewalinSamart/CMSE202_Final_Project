{
 "cells": [
  {
   "cell_type": "code",
   "execution_count": null,
   "metadata": {},
   "outputs": [],
   "source": [
    "class oxygen():\n",
    "    \n",
    "    def __init__ (self, vein_locationx, vein_locationy):\n",
    "        self.x = vein_locationx #location to be drawn \n",
    "        self.y = vein_locationy #location to be drawn \n",
    "        \n",
    "        \n",
    "        pass\n",
    "    \n",
    "    def enter_blood (self):\n",
    "        '''\n",
    "        3% of Oxygen is diffused/dissolved into plasma within blood \n",
    "        This is shown through an oxygen object being drawn within the veins \n",
    "        '''\n",
    "        prob = random.random() \n",
    "        \n",
    "        if prob > 0.97: #demonstrating that only 3% of oxygen is diffused/dissolved in plasma \n",
    "            plt.scatter(self.x, self.y, c='blue') #plots blue marker 'oxygen' on board at vein location\n",
    "        pass\n",
    "    \n",
    "    def movement (self):\n",
    "        \n",
    "        '''\n",
    "        Oxygen moves through the veins towards the nearest organ  \n",
    "        This is shown through the oxygen object moving 1 unit per each step \n",
    "        '''\n",
    "        \n",
    "        temp_x = self.x \n",
    "        temp_y = self.y \n",
    "        \n",
    "        #find next vein location, update temp locations, if there are two locations (junctions) use random prob         \n",
    "        \n",
    "        \n",
    "        pass \n",
    "    \n",
    "    def enter_organ (self, organ_locationx, organ_locationy):\n",
    "        \n",
    "        '''\n",
    "        Once the oxygen molecule is within 2 units of the organ, it diffuses into the organ \n",
    "        This is shown through the oxygen object being deleted from the model \n",
    "        '''\n",
    "    \n",
    "        distance = [((organ_locationx - self.x)**2) + ((organ_locationy - self.y)**2)]\n",
    "        \n",
    "        if distance <= 2: #if the distance between the oxygen molecule and organ is within 2 units, \n",
    "                          #the oxygen will diffuse into the organ \n",
    "            del self #object is deleted to show its diffusion into organ \n",
    "        \n",
    "        \n",
    "        pass\n",
    "    "
   ]
  }
 ],
 "metadata": {
  "kernelspec": {
   "display_name": "Python 3",
   "language": "python",
   "name": "python3"
  },
  "language_info": {
   "codemirror_mode": {
    "name": "ipython",
    "version": 3
   },
   "file_extension": ".py",
   "mimetype": "text/x-python",
   "name": "python",
   "nbconvert_exporter": "python",
   "pygments_lexer": "ipython3",
   "version": "3.8.5"
  }
 },
 "nbformat": 4,
 "nbformat_minor": 4
}
